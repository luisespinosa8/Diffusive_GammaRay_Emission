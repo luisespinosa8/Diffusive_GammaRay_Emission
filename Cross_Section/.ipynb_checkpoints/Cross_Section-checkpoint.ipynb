{
 "cells": [
  {
   "cell_type": "markdown",
   "id": "3fc4f6ca",
   "metadata": {},
   "source": [
    "# Cross-section computation based on (Kafexhiu et al., 2014)"
   ]
  },
  {
   "cell_type": "code",
   "execution_count": 3,
   "id": "20432547",
   "metadata": {},
   "outputs": [],
   "source": [
    "from pylab import *"
   ]
  },
  {
   "cell_type": "code",
   "execution_count": 4,
   "id": "453ccdcd",
   "metadata": {},
   "outputs": [],
   "source": [
    "# Quantities\n",
    "m_p = 0.938272 # Proton mass in GeV\n",
    "m_pi = 0.134976; # Pion mass in GeV\n",
    "T_pth = (2.0 * m_pi) + m_pi**2 / (2.0 * m_p) # Threshold in GeV"
   ]
  },
  {
   "cell_type": "markdown",
   "id": "dde5969c",
   "metadata": {},
   "source": [
    "T_p is the proton kinetic energy in the LAB frame in GeV"
   ]
  },
  {
   "cell_type": "markdown",
   "id": "e6220ac7",
   "metadata": {},
   "source": [
    "## Kinematics"
   ]
  },
  {
   "cell_type": "code",
   "execution_count": 50,
   "id": "cc959288",
   "metadata": {},
   "outputs": [],
   "source": [
    "# Maximum pi_0 energy\n",
    "def EpimaxLAB(T_p):\n",
    "    s = 2.0 * m_p * (T_p + 2.0 * m_p)\n",
    "    gammaCM = (T_p + 2.0 * m_p) * s**(-1/2)\n",
    "    EpiCM = (s - 4.0 * m_p**2 + m_pi**2) / (2.0 * s**(1/2))\n",
    "    PpiCM = (EpiCM**2 - m_pi**2)**(1/2)\n",
    "    BetaCM = (1.0 - gammaCM**(-2))**(1/2)\n",
    "    EpimaxLABval = gammaCM * (EpiCM + PpiCM * BetaCM)\n",
    "    return EpimaxLABval # in GeV"
   ]
  },
  {
   "cell_type": "code",
   "execution_count": 51,
   "id": "3fcce017",
   "metadata": {},
   "outputs": [],
   "source": [
    "# Maximum gamma-ray energy\n",
    "def Egammamax(T_p):\n",
    "    gammapiLAB = EpimaxLAB(T_p) / m_pi\n",
    "    BetapiLAB = (1.0 - gammapiLAB**(-2))**(1/2)\n",
    "    Egmin = (m_pi / 2.0) * gammapiLAB * (1.0 - BetapiLAB)\n",
    "    Egmax = (m_pi / 2.0) * gammapiLAB * (1.0 + BetapiLAB)\n",
    "    return Egmax # in GeV"
   ]
  },
  {
   "cell_type": "code",
   "execution_count": 52,
   "id": "0ae9c1e1",
   "metadata": {},
   "outputs": [],
   "source": [
    "# pp total inelastic cross section (fitting the PDG data including TOTEM @ LHC)\n",
    "def sigmainel(T_p):\n",
    "    LX = np.log(T_p / T_pth)\n",
    "    Thresh = max(0.0, (1.0 - (T_pth / T_p)**1.9))\n",
    "    XS = (30.7 - 0.96 * LX + 0.18 * LX**2) * Thresh**3\n",
    "    return XS # in mb"
   ]
  },
  {
   "cell_type": "code",
   "execution_count": 53,
   "id": "d2b24920",
   "metadata": {},
   "outputs": [],
   "source": [
    "# First pi_0 production cross section. Valid for T_p <= 2 GeV. The channel included is pp->pp(pi_0)\n",
    "def sigma1pi(T_p):\n",
    "    MRES = 1.1883 # Resonance effective mass in GeV\n",
    "    GammaRES = 0.2264 # Resonance effective width in GeV\n",
    "    sigma0 = 7.66 * 10**(-3) # mb\n",
    "    if T_p <= T_pth:\n",
    "        XS1pi = 0.0\n",
    "    if T_p > 2.0:\n",
    "        XS1pi = 0.0\n",
    "    else:\n",
    "        s = 2.0 * m_p * (T_p + 2.0 * m_p)\n",
    "        X = s**(1/2) - m_p\n",
    "        eta = ( ((s - m_pi**2 - 4.0 * m_p**2)**2 - (16.0 * m_pi**2 * m_p**2))**(1/2) ) / (2 * m_pi * s**(1/2))\n",
    "        gRES = (MRES**2 * (MRES**2 + GammaRES**2))**(1/2)\n",
    "        KRES = (8.0**(1/2)) * MRES * GammaRES * gRES / (np.pi * (MRES**2 + gRES)**(1/2))\n",
    "        fBW = m_p * (KRES / ((X**2 - MRES**2)**2 + (MRES * GammaRES)**2))\n",
    "        XS1pi = sigma0 * (eta**1.95) * (1.0 + eta + eta**5) * (fBW**1.86)\n",
    "    return XS1pi # in mb"
   ]
  },
  {
   "cell_type": "code",
   "execution_count": 54,
   "id": "1ad32e77",
   "metadata": {},
   "outputs": [],
   "source": [
    "# Second pion production cross section. Valid T_p <= 2 GeV. The channels included are p+p -> p+n +(pi+)+(pi_0), \n",
    "# p+p ->  D  +(pi+)+(pi:0), p+p -> p+p +2(pi_0)\n",
    "def sigma2pi(T_p):\n",
    "    if T_p < 0.56:\n",
    "        XS2pi = 0.0\n",
    "    if T_p > 2.0:\n",
    "        XS2pi = 0.0\n",
    "    else:\n",
    "        XS2pi = 5.7 / (1.0 + np.exp(-9.3 * (T_p - 1.4)))\n",
    "    return XS2pi # in mb"
   ]
  },
  {
   "cell_type": "markdown",
   "id": "e4e3e89f",
   "metadata": {},
   "source": [
    "## Geant4"
   ]
  },
  {
   "cell_type": "code",
   "execution_count": 77,
   "id": "603c513b",
   "metadata": {},
   "outputs": [],
   "source": [
    "# Average pi_0 production multiplicity given by Geant4. Valid for T_p >= to 1 GeV\n",
    "def multippi0Geant4(T_p):\n",
    "    if T_p <= 2.0:\n",
    "        multippi0 = 0\n",
    "    if T_p >= 5.0:\n",
    "        a1 = 0.728; a2 = 0.596; a3 = 0.491; a4 = 0.2503; a5 = 0.117\n",
    "        xip = (T_p - 3.0) / m_p\n",
    "        multippi0 = a1 * (xip**a4) * (1.0 + np.exp(-a2 * xip**a5)) * (1.0 - np.exp(-a3 * xip**0.25))\n",
    "    else: \n",
    "        Qp = (T_p - T_pth)/m_p\n",
    "        multippi0 = -6.0 * 10**-3 + 0.237 * Qp - 0.023 * Qp**2\n",
    "    return multippi0\n",
    "vec_multippi0Geant4 = np.vectorize(multippi0Geant4)"
   ]
  },
  {
   "cell_type": "code",
   "execution_count": 56,
   "id": "de3b7f42",
   "metadata": {},
   "outputs": [],
   "source": [
    "# pi_0 production cross section by using experimental data for T_p<=2 GeV, and Geant4 multiplicity for T_p>2 GeV\n",
    "def sigmapiGeant4(T_p):\n",
    "    XSpi0 = sigma1pi(T_p) + sigma2pi(T_p) + sigmainel(T_p) * multippi0Geant4(T_p)\n",
    "    return XSpi0 # in mb"
   ]
  },
  {
   "cell_type": "code",
   "execution_count": 57,
   "id": "bdf0cc92",
   "metadata": {},
   "outputs": [],
   "source": [
    "# Peak value of the gamma-ray differential cross section. \n",
    "# For T_p < 1 GeV is the fit from the experimental data, and for T_p >= 1 GeV is based on Geant4.\n",
    "def AmaxGeant4(T_p):\n",
    "    theta_p = T_p / m_p\n",
    "    Ltheta_p = np.log(theta_p)\n",
    "    if T_p <= T_pth:\n",
    "        Amax = 0\n",
    "    if T_p > T_pth and T_p < 1.0:\n",
    "        Amax = 5.9 * sigmapiGeant4(T_p) / EpimaxLAB(T_p)\n",
    "    if T_p >= 1.0 and T_p < 5.0:\n",
    "        b1 = 9.53; b2 = -0.52; b3 = 0.054;\n",
    "        Amax = b1 * (theta_p**b2) * np.exp(b3 * Ltheta_p**2) * sigmapiGeant4(T_p) / m_p\n",
    "    else: \n",
    "        b1 = 9.13; b2 = -0.35; b3 = 9.7 * 10**(-3);\n",
    "        Amax = b1 * theta_p**b2 * np.exp(b3 * Ltheta_p**2.0) * sigmapiGeant4(T_p) / m_p\n",
    "    return Amax # in mb/GeV\n",
    "vec_AmaxGeant4 = np.vectorize(AmaxGeant4)"
   ]
  },
  {
   "cell_type": "code",
   "execution_count": 58,
   "id": "be331ac9",
   "metadata": {},
   "outputs": [],
   "source": [
    "# Shape of the gamma-ray differential cross section function for a specific T_p.\n",
    "# Includes the experimental data for T_p < 1 GeV and Geant4 for T_p >= 1 GeV. \n",
    "def FGeant4(T_p, Egamma):\n",
    "    Y = Egamma + m_pi**2 / (4.0 * Egamma)\n",
    "    Y0 = Egammamax(T_p) + m_pi**2 / (4.0 * Egammamax(T_p))\n",
    "    X = (Y - m_pi) / (Y0 - m_pi)\n",
    "    theta = T_p/m_p\n",
    "    kappa = 3.29 - 0.2 * theta**(-1.5)\n",
    "    q = (T_p - 1.0) / m_p\n",
    "    C0 = 3.0 * m_pi / Y0\n",
    "    FF = 0.0\n",
    "    if X >= 0.0 and X < 1.0:\n",
    "        FF = 0.0\n",
    "        if T_p > T_pth and T_p < 1.0:\n",
    "            FF = (1 - X)**kappa\n",
    "        if T_p >= 1.0 and T_p <= 4.0:\n",
    "            mu = 1.25 * q**1.25 * np.exp(-1.25 * q)\n",
    "            beta = mu + 2.45\n",
    "            gamma = mu + 1.45\n",
    "            FF = (1 - X)**beta / (1 + X / C0)**gamma\n",
    "        if T_p > 4.0 and T_p <= 20.0:\n",
    "            mu = 1.25 * q**1.25 * np.exp(-1.25 * q)\n",
    "            beta = 1.5 * mu + 4.95\n",
    "            gamma = mu + 1.5\n",
    "            FF = (1 - X)**beta / (1 + X / C0)**gamma\n",
    "        if T_p > 20.0 and T_p <= 100.0:\n",
    "            FF = (1 - X**0.5)**4.2 / (1 + X / C0)\n",
    "        if T_p > 100.0: \n",
    "            FF = (1 - X**0.5)**4.9 / (1 + X / C0)\n",
    "    return FF"
   ]
  },
  {
   "cell_type": "code",
   "execution_count": 59,
   "id": "9d9b4961",
   "metadata": {},
   "outputs": [],
   "source": [
    "# pp->pi0->gamma-ray differential cross section function\n",
    "# Includes the experimental data for T_p < 1 GeV and Geant4 for T_p >= 1 GeV.\n",
    "def dsigmadEgammaGeant4(T_p, Egamma):\n",
    "    dsigma = AmaxGeant4(T_p) * FGeant4(T_p, Egamma)\n",
    "    return dsigma # in mb/GeV\n",
    "diffcrossGeant4 = vectorize(dsigmadEgammaGeant4)"
   ]
  },
  {
   "cell_type": "code",
   "execution_count": 81,
   "id": "8165d60b",
   "metadata": {},
   "outputs": [
    {
     "data": {
      "text/plain": [
       "[]"
      ]
     },
     "execution_count": 81,
     "metadata": {},
     "output_type": "execute_result"
    },
    {
     "data": {
      "image/png": "[encoded data removed]",
      "text/plain": [
       "<Figure size 640x480 with 1 Axes>"
      ]
     },
     "metadata": {},
     "output_type": "display_data"
    }
   ],
   "source": [
    "logT = np.arange(1, 6.1, 0.1)\n",
    "T = 10**logT\n",
    "plt.plot(T, vec_multippi0Geant4(T), label='Geant4')\n",
    "plt.plot(T, vec_multippi0SYBILL(T), label='SIBYLL')\n",
    "plt.plot(T, vec_multippi0Pythia8(T))\n",
    "plt.loglog()"
   ]
  },
  {
   "cell_type": "markdown",
   "id": "5ce7e9ce",
   "metadata": {},
   "source": [
    "## Pythia8"
   ]
  },
  {
   "cell_type": "code",
   "execution_count": 80,
   "id": "58d35c51",
   "metadata": {},
   "outputs": [],
   "source": [
    "# Average pi_0 production multiplicity given by Geant4 for T_p <= 50 GeV and Pythia 8 for T_p > 50 GeV\n",
    "def multippi0Pythia8(T_p):\n",
    "    if T_p <= 50.0:\n",
    "        multippi0 = multippi0Geant4(T_p)\n",
    "    else: \n",
    "        a1 = 0.652; a2 = 0.0016; a3 = 0.488; a4 = 0.1928; a5 = 0.483\n",
    "        xip = (T_p - 3.0) / m_p\n",
    "        multippi0 = a1 * (xip**a4) * (1.0 + np.exp(-a2 * xip**a5)) * (1.0 - np.exp(-a3 * xip**0.25))\n",
    "    return multippi0\n",
    "vec_multippi0Pythia8 = np.vectorize(multippi0Pythia8)"
   ]
  },
  {
   "cell_type": "code",
   "execution_count": 62,
   "id": "ceb3d51f",
   "metadata": {},
   "outputs": [],
   "source": [
    "# pi_0 production cross section by using experimental data for T_p <= 2 GeV, \n",
    "# Geant4 multiplicity for 2 < T_p <= 50 GeV and Pythia8 multiplicity for T_p < 50 GeV\n",
    "def sigmapiPythia8(T_p):\n",
    "    XSpi0 = sigma1pi(T_p) + sigma2pi(T_p) + sigmainel(T_p) * multippi0Pythia8(T_p)\n",
    "    return XSpi0 # in mb"
   ]
  },
  {
   "cell_type": "code",
   "execution_count": 94,
   "id": "ab5c5d7e",
   "metadata": {},
   "outputs": [],
   "source": [
    "# Peak value of the gamma-ray differential cross section. \n",
    "# For T_p < 1 GeV is the fit from the experimental data, for 1 <= T_p <= 50 GeV is based on Geant4 and \n",
    "# for T_p > 50 GeV is based on Pythia8.\n",
    "def AmaxPythia8(T_p):\n",
    "    theta_p = T_p / m_p\n",
    "    Ltheta_p = np.log(theta_p)\n",
    "    if T_p <= T_pth:\n",
    "        Amax = 0\n",
    "    if T_p > T_pth and T_p <= 50.0:\n",
    "        Amax = AmaxGeant4(T_p)\n",
    "    if T_p > 50.0:\n",
    "        b1 = 9.06; b2 = -0.3795; b3 = 0.01105;\n",
    "        Amax = b1 * theta_p**b2 * np.exp(b3 * Ltheta_p**2.0) * sigmapiPythia8(T_p) / m_p\n",
    "    return Amax # in mb/GeV"
   ]
  },
  {
   "cell_type": "code",
   "execution_count": 91,
   "id": "20bbacbf",
   "metadata": {},
   "outputs": [],
   "source": [
    "# Shape of the gamma-ray differential cross section function for a specific T_p.\n",
    "# Includes the experimental data for T_p < 1 GeV Geant4 for 1 <= T_p <= 50 GeV and Pythia8 for T_p > 50 GeV\n",
    "def FPythia8(T_p, Egamma):\n",
    "    Y = Egamma + m_pi**2 / (4.0 * Egamma)\n",
    "    Y0 = Egammamax(T_p) + m_pi**2 / (4.0 * Egammamax(T_p))\n",
    "    X = (Y - m_pi) / (Y0 - m_pi)\n",
    "    C0 = 3.5 * m_pi / Y0\n",
    "    if X >= 0.0 and X < 1.0 and T_p > 50:\n",
    "        FF = (1 - X**0.5)**4.0 / (1 + X / C0)\n",
    "    else:\n",
    "        FF = FGeant4(T_p, Egamma)\n",
    "    return FF"
   ]
  },
  {
   "cell_type": "code",
   "execution_count": 65,
   "id": "2c7eb559",
   "metadata": {},
   "outputs": [],
   "source": [
    "# pp->pi0->gamma-ray differential cross section function\n",
    "# Includes the experimental data for T_p < 1 GeV and Geant4 for 1 <= T_p <= 50 GeV and Pythia8 for T_p > 50 GeV\n",
    "def dsigmadEgammaPythia8(T_p, Egamma):\n",
    "    dsigma = AmaxPythia8(T_p) * FPythia8(T_p, Egamma)\n",
    "    return dsigma # in mb/GeV\n",
    "diffcrossPythia8 = vectorize(dsigmadEgammaPythia8)"
   ]
  },
  {
   "cell_type": "markdown",
   "id": "3077daa5",
   "metadata": {},
   "source": [
    "## SYBILL"
   ]
  },
  {
   "cell_type": "code",
   "execution_count": 78,
   "id": "d80ccdc7",
   "metadata": {},
   "outputs": [],
   "source": [
    "# Average pi0 production multiplicity given by Geant4 for T_p <= 100 GeV and SIBYLL for T_p>100 GeV\n",
    "def multippi0SYBILL(T_p): \n",
    "    if T_p <= 100.0:\n",
    "        multippi0 = multippi0Geant4(T_p)\n",
    "    else:\n",
    "        a1 = 5.436; a2 = 0.254; a3 = 0.072; a4 = 0.075; a5 = 0.166\n",
    "        xip = (T_p - 3.0) / m_p\n",
    "        multippi0 = a1 * (xip**a4) * (1.0 + np.exp(-a2 * xip**a5)) * (1.0 - np.exp(-a3 * xip**0.25))\n",
    "    return multippi0\n",
    "vec_multippi0SYBILL = np.vectorize(multippi0SYBILL)"
   ]
  },
  {
   "cell_type": "code",
   "execution_count": 67,
   "id": "05f1dcc4",
   "metadata": {},
   "outputs": [],
   "source": [
    "# pi_0 production cross section by using experimental data for T_p <= 2 GeV, \n",
    "# Geant4 multiplicity for 2 < T_p <= 100 GeV and SIBYLL multiplicity for T_p > 100 GeV\n",
    "def sigmapiSIBYLL(T_p):\n",
    "    XSpi0 = sigma1pi(T_p) + sigma2pi(T_p) + sigmainel(T_p) * multippi0SYBILL(T_p)\n",
    "    return XSpi0 # in mb"
   ]
  },
  {
   "cell_type": "code",
   "execution_count": 68,
   "id": "8f7f82cb",
   "metadata": {},
   "outputs": [],
   "source": [
    "# Peak value of the gamma-ray differential cross section. \n",
    "# For T_p < 1 GeV is the fit from the experimental data, for 1 <= T_p <= 100 GeV is based on Geant4\n",
    "# and for T_p > 100 GeV is based on SIBYLL.\n",
    "def AmaxSIBYLL(T_p):\n",
    "    theta_p = T_p / m_p\n",
    "    Ltheta_p = np.log(theta_p)\n",
    "    if T_p > T_pth and T_p <= 100.0:\n",
    "        Amax = AmaxGeant4(T_p)\n",
    "    if T_p > 100.0:\n",
    "        b1 = 10.77; b2 = -0.412; b3 = 0.01264;\n",
    "        Amax = b1 * theta_p**b2 * np.exp(b3 * Ltheta_p**2.0) * sigmapiSIBYLL(T_p) / m_p\n",
    "    return Amax # in mb/GeV\n",
    "vec_AmaxSIBYLL = np.vectorize(AmaxSIBYLL)"
   ]
  },
  {
   "cell_type": "code",
   "execution_count": 69,
   "id": "8c8faafb",
   "metadata": {},
   "outputs": [],
   "source": [
    "# Shape of the gamma-ray differential cross section function for a specific T_p.\n",
    "# Includes the experimental data for T_p < 1 GeV Geant4 for 1 <= T_p <= 100 GeV and SIBYLL for T_p > 100 GeV\n",
    "def FSIBYLL(T_p, Egamma):\n",
    "    Y = Egamma + m_pi**2 / (4.0 * Egamma)\n",
    "    Y0 = Egammamax(T_p) + m_pi**2 / (4.0 * Egammamax(T_p))\n",
    "    X = (Y - m_pi) / (Y0 - m_pi)\n",
    "    C0 = 3.55 * m_pi / Y0\n",
    "    if X >= 0.0 and X < 1.0 and T_p > 100:\n",
    "        FF = (1 - X**0.5)**3.6 / (1 + X / C0)\n",
    "    else:\n",
    "        FF = FGeant4(T_p, Egamma)\n",
    "    return FF"
   ]
  },
  {
   "cell_type": "code",
   "execution_count": 70,
   "id": "67e6358a",
   "metadata": {},
   "outputs": [],
   "source": [
    "# pp->pi0->gamma-ray differential cross section function\n",
    "# Includes the experimental data for T_p < 1 GeV and Geant4 for for 1 <= T_p <= 100 GeV and SIBYLL for T_p > 100 GeV\n",
    "def dsigmadEgammaSIBYLL(T_p, Egamma):\n",
    "    dsigma = AmaxSIBYLL(T_p) * FSIBYLL(T_p, Egamma)\n",
    "    return dsigma # in mb/GeV\n",
    "diffcrossSIBYLL = vectorize(dsigmadEgammaSIBYLL)"
   ]
  },
  {
   "cell_type": "markdown",
   "id": "2c5bc548",
   "metadata": {},
   "source": [
    "## QGSJET"
   ]
  },
  {
   "cell_type": "code",
   "execution_count": 71,
   "id": "eb007d3f",
   "metadata": {},
   "outputs": [],
   "source": [
    "# Average pi0 production multiplicity given by Geant4 for T_p <= 100 GeV and QGSJET for T_p>100 GeV  \n",
    "def multippi0QGSJET(T_p):\n",
    "    if T_p <= 100.0:\n",
    "        multippi0 = multippi0Geant4(T_p)\n",
    "    else: \n",
    "        a1 = 0.908; a2 = 0.0009; a3 = 6.089; a4 = 0.176; a5 = 0.448\n",
    "        xip = (T_p - 3.0) / m_p\n",
    "        multippi0 = a1 * (xip**a4) * (1.0 + np.exp(-a2 * xip**a5)) * (1.0 - np.exp(-a3 * xip**0.25))\n",
    "    return multippi0"
   ]
  },
  {
   "cell_type": "code",
   "execution_count": 72,
   "id": "71b9c375",
   "metadata": {},
   "outputs": [],
   "source": [
    "# pi_0 production cross section by using experimental data for T_p <= 2 GeV, \n",
    "# Geant4 multiplicity for 2 < T_p <= 100 GeV and QGSJET multiplicity for T_p > 100 GeV\n",
    "def sigmapiQGSJET(T_p):\n",
    "    XSpi0 = sigma1pi(T_p) + sigma2pi(T_p) + sigmainel(T_p) * multippi0QGSJET(T_p)\n",
    "    return XSpi0 # in mb"
   ]
  },
  {
   "cell_type": "code",
   "execution_count": 73,
   "id": "f53ef96b",
   "metadata": {},
   "outputs": [],
   "source": [
    "# Peak value of the gamma-ray differential cross section. \n",
    "# For T_p < 1 GeV is the fit from the experimental data, for 1 <= T_p <= 100 GeV is based on Geant4\n",
    "# and for T_p > 100 GeV is based on QGSJET.\n",
    "def AmaxQGSJET(T_p):\n",
    "    theta_p = T_p / m_p\n",
    "    Ltheta_p = np.log(theta_p)\n",
    "    #if T_p > T_pth and T_p <= 100.0:\n",
    "    if T_pth < T_p <= 100:\n",
    "        Amax = AmaxGeant4(T_p)\n",
    "    if T_p > 100.0:\n",
    "        b1 = 13.16; b2 = -0.4419; b3 = 0.01439;\n",
    "        Amax = b1 * theta_p**b2 * np.exp(b3 * Ltheta_p**2.0) * sigmapiQGSJET(T_p) / m_p\n",
    "    return Amax # in mb/GeV"
   ]
  },
  {
   "cell_type": "code",
   "execution_count": 74,
   "id": "fd2e1252",
   "metadata": {},
   "outputs": [],
   "source": [
    "# Shape of the gamma-ray differential cross section function for a specific T_p.\n",
    "# Includes the experimental data for T_p < 1 GeV Geant4 for 1 <= T_p <= 100 GeV and QGSJET for T_p > 100 GeV\n",
    "def FQGSJET(T_p, Egamma):\n",
    "    Y = Egamma + m_pi**2 / (4.0 * Egamma)\n",
    "    Y0 = Egammamax(T_p) + m_pi**2 / (4.0 * Egammamax(T_p))\n",
    "    X = (Y - m_pi) / (Y0 - m_pi)\n",
    "    C0 = 3.55 * m_pi / Y0\n",
    "    if X >= 0.0 and X < 1.0 and T_p > 100:\n",
    "        FF = (1 - X**0.5)**4.5 / (1 + X / C0)\n",
    "    else:\n",
    "        FF = FGeant4(T_p, Egamma)\n",
    "    return FF"
   ]
  },
  {
   "cell_type": "code",
   "execution_count": 75,
   "id": "eed52c62",
   "metadata": {},
   "outputs": [],
   "source": [
    "# pp->pi0->gamma-ray differential cross section function\n",
    "# Includes the experimental data for T_p < 1 GeV and Geant4 for for 1 <= T_p <= 100 GeV and QGSJET for T_p > 100 GeV\n",
    "def dsigmadEgammaQGSJET(T_p, Egamma):\n",
    "    dsigma = AmaxQGSJET(T_p) * FQGSJET(T_p, Egamma)\n",
    "    return dsigma # in mb/GeV\n",
    "diffcrossQGSJET = vectorize(dsigmadEgammaQGSJET)"
   ]
  },
  {
   "cell_type": "markdown",
   "id": "b3e46a6f",
   "metadata": {},
   "source": [
    "## Test plots"
   ]
  },
  {
   "cell_type": "code",
   "execution_count": 98,
   "id": "669207b7",
   "metadata": {},
   "outputs": [
    {
     "data": {
      "image/png": "[encoded data removed]",
      "text/plain": [
       "<Figure size 1000x500 with 1 Axes>"
      ]
     },
     "metadata": {},
     "output_type": "display_data"
    }
   ],
   "source": [
    "logT = np.arange(1, 6.1, 0.1)\n",
    "T = 10**logT\n",
    "E = 10\n",
    "\n",
    "plt.figure(figsize=(10, 5))\n",
    "plt.plot(T, diffcrossGeant4(T, E), color='blue', label='Geant4')\n",
    "plt.plot(T, diffcrossPythia8(T, E), color='green', label='Pythia')\n",
    "plt.plot(T, diffcrossSIBYLL(T, E), color='orange', label='SIBYLL')\n",
    "plt.plot(T, diffcrossQGSJET(T, E), color='red', label='QGSJET')\n",
    "plt.loglog()\n",
    "#plt.xlim(1e2, 1e9)\n",
    "plt.ylim(1e-3, 1e2)\n",
    "plt.xlabel(r'$T_p$ [GeV]', fontsize=17)\n",
    "plt.ylabel(r'$\\frac{d\\sigma}{dE}$ [mb/GeV]', fontsize=17)\n",
    "plt.legend(ncol=1, fontsize=14, loc='upper left')\n",
    "plt.title('Differential cross section', fontsize=17)\n",
    "plt.savefig('/Users/luisenriqueespinosacastro/Documents/PhD/Research/Diffusive gamma rays/Diffusive_GammaRay_Emission/Plots/diff_cross_section.png')"
   ]
  },
  {
   "cell_type": "code",
   "execution_count": null,
   "id": "f04758fb",
   "metadata": {},
   "outputs": [],
   "source": []
  },
  {
   "cell_type": "code",
   "execution_count": null,
   "id": "b57a0b5f",
   "metadata": {},
   "outputs": [],
   "source": []
  }
 ],
 "metadata": {
  "kernelspec": {
   "display_name": "Python 3 (ipykernel)",
   "language": "python",
   "name": "python3"
  },
  "language_info": {
   "codemirror_mode": {
    "name": "ipython",
    "version": 3
   },
   "file_extension": ".py",
   "mimetype": "text/x-python",
   "name": "python",
   "nbconvert_exporter": "python",
   "pygments_lexer": "ipython3",
   "version": "3.11.5"
  }
 },
 "nbformat": 4,
 "nbformat_minor": 5
}
