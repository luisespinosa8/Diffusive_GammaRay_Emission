{
 "cells": [
  {
   "cell_type": "code",
   "execution_count": 1,
   "id": "098bcdee",
   "metadata": {},
   "outputs": [],
   "source": [
    "from pylab import *"
   ]
  },
  {
   "cell_type": "code",
   "execution_count": 2,
   "id": "a57b0ce1",
   "metadata": {},
   "outputs": [],
   "source": [
    "def I_gamma(Egamma, theta, phi, gas_model, hadronic_model, cr_model):\n",
    "    \n",
    "    # Egamma - Gamma-ray energy [GeV]\n",
    "    # theta - Latitude angle [degrees]\n",
    "    # phi - Longitude angle [degrees]\n",
    "    # gas_model - Options: GALPROP\n",
    "    # hadronic_model - Options: Geant4, Pythia8, SIBYLL, QGSJET\n",
    "    # cr_model = Options: Dembinski, Lipari\n",
    "    \n",
    "    indexE = np.where(np.logical_and(E_Dembinski>=Egamma, E_Dembinski>=Egamma))\n",
    "    Ep = E_Dembinski[indexE]\n",
    "    \n",
    "    # FIRST INTEGRAL\n",
    "    \n",
    "    # Cross-section model\n",
    "    if hadronic_model == 'Geant4':\n",
    "        dsigmadE = diffcrossGeant4(Ep, Egamma) * 1e-27\n",
    "    if hadronic_model == 'Pythia8':\n",
    "        dsigmadE = diffcrossPythia8(Ep, Egamma) * 1e-27\n",
    "    if hadronic_model == 'SIBYLL':\n",
    "        dsigmadE = diffcrossSIBYLL(Ep, Egamma) * 1e-27\n",
    "    if hadronic_model == 'QGSJET':\n",
    "        dsigmadE = diffcrossQGSJET(Ep, Egamma) * 1e-27\n",
    "        \n",
    "    # Cosmic rays model\n",
    "    if cr_model == 'Dembinski':\n",
    "        flux_CR = phi_total_Dembinski[indexE] / 1e4\n",
    "    if cr_model == 'Lipari':\n",
    "        flux_CR = Phi_total_nucleon(Ep) / 1e4\n",
    "    if cr_model == 'Prevotat':\n",
    "        flux_CR = I_total(Ep) / 1e4\n",
    "        \n",
    "    integral_E = scipy.integrate.simpson(dsigmadE * flux_CR, Ep)\n",
    "        \n",
    "    # SECOND INTEGRAL\n",
    "    \n",
    "    # Gas model\n",
    "    los = np.arange(0, 50, 0.1) * 3.08567758128e21 # in cm\n",
    "    if gas_model == 'GALPROP':\n",
    "        n_gas = n_GALPROP(los, theta, phi)\n",
    "        \n",
    "    # Optical depth\n",
    "    tau = vec_tauABSiso(Egamma, los)\n",
    "    \n",
    "    intensity = scipy.integrate.simpson(n_gas * np.exp(-tau) * integral_E, los) * np.sin(math.radians(theta))\n",
    "    \n",
    "    return intensity #in (GeV cm^2 s sr)^-1\n",
    "vec_I_gamma = np.vectorize(I_gamma)"
   ]
  },
  {
   "cell_type": "code",
   "execution_count": null,
   "id": "b609413d",
   "metadata": {},
   "outputs": [],
   "source": []
  }
 ],
 "metadata": {
  "kernelspec": {
   "display_name": "Python 3 (ipykernel)",
   "language": "python",
   "name": "python3"
  },
  "language_info": {
   "codemirror_mode": {
    "name": "ipython",
    "version": 3
   },
   "file_extension": ".py",
   "mimetype": "text/x-python",
   "name": "python",
   "nbconvert_exporter": "python",
   "pygments_lexer": "ipython3",
   "version": "3.11.5"
  }
 },
 "nbformat": 4,
 "nbformat_minor": 5
}
